{
 "cells": [
  {
   "cell_type": "markdown",
   "metadata": {},
   "source": [
    "## L2 regularizer && weight_decay_rate:"
   ]
  },
  {
   "cell_type": "code",
   "execution_count": 3,
   "metadata": {},
   "outputs": [],
   "source": [
    "\n",
    "# Add weight decay to the loss.  \n",
    "self.cost = cross_entropy +self.hps.weight_decay_rate * tf.add_n(\n",
    "  [tf.nn.l2_loss(v) for v in tf.trainable_variables()])"
   ]
  },
  {
   "cell_type": "markdown",
   "metadata": {},
   "source": [
    "### tf.nn.l2_loss()\n",
    "这个函数的作用是利用L2范数来计算张量的误差值，但是没有开发并且只取L2范数的值的一半\n",
    "\n",
    "函数：\n",
    "tf.nn.l2_loss(t,\n",
    "    name=None)\n",
    "\n",
    "参数：\n",
    "    t：一个张量(tensor)，类型可以为：half, bfloat16, float32, float64\n",
    "    name：op的一个名字，即为这个操作取个名字  \n",
    "作用：不使用sqrt计算张量的L2范数的一半  \n",
    "输出：一个tensor，数据类型和t相同，是一个标量  \n",
    "计算公式：output = sum(t**2)/2  \n",
    "\n",
    "简单的可以理解成张量中的每一个元素进行平方，然后求和，最后乘一个1/2\n",
    "\n",
    "l2_loss一般用于优化目标函数中的正则项，防止参数太多复杂容易过拟合(所谓的过拟合问题是指当一个模型很复杂时，它可以很好的“记忆”每一个训练数据中的随机噪声的部分而忘记了要去“学习”训练数据中通用的趋势)\n"
   ]
  },
  {
   "cell_type": "code",
   "execution_count": 1,
   "metadata": {},
   "outputs": [
    {
     "name": "stdout",
     "output_type": "stream",
     "text": [
      "7.0\n"
     ]
    }
   ],
   "source": [
    "#coding:utf-8\n",
    "\n",
    "import tensorflow as tf\n",
    "x = tf.constant([1,2,3],dtype=tf.float32)\n",
    "\n",
    "with tf.Session() as sess:\n",
    "    print(sess.run(tf.nn.l2_loss(x)))\n",
    "\n",
    "# 结果输出：\n",
    "# 7.0\n",
    "# 计算的过程:\n",
    "\n",
    "# 1/2(1**2+2**2+3**2) = 1/2(1+4+9) = 7.0\n"
   ]
  },
  {
   "cell_type": "markdown",
   "metadata": {},
   "source": [
    "##  Learn_rate"
   ]
  },
  {
   "cell_type": "markdown",
   "metadata": {},
   "source": [
    "## Momentum && adam "
   ]
  }
 ],
 "metadata": {
  "kernelspec": {
   "display_name": "Python 3",
   "language": "python",
   "name": "python3"
  },
  "language_info": {
   "codemirror_mode": {
    "name": "ipython",
    "version": 3
   },
   "file_extension": ".py",
   "mimetype": "text/x-python",
   "name": "python",
   "nbconvert_exporter": "python",
   "pygments_lexer": "ipython3",
   "version": "3.6.8"
  }
 },
 "nbformat": 4,
 "nbformat_minor": 2
}
