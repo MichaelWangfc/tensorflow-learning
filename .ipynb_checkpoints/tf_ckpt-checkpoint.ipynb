{
 "cells": [
  {
   "cell_type": "code",
   "execution_count": 1,
   "metadata": {},
   "outputs": [],
   "source": [
    "import os\n",
    "import tensorflow as tf\n",
    "from tensorflow.python import pywrap_tensorflow"
   ]
  },
  {
   "cell_type": "code",
   "execution_count": 2,
   "metadata": {},
   "outputs": [
    {
     "name": "stdout",
     "output_type": "stream",
     "text": [
      "model_checkpoint_path: \"/Tensorflow/docker-multiple/ResNet/resnet50-cifar-ckpt/model.ckpt-107738\"\n",
      "\n",
      "all_model_checkpoint_paths: \"/Tensorflow/docker-multiple/ResNet/resnet50-cifar-ckpt/model.ckpt-100576\"\n",
      "\n",
      "all_model_checkpoint_paths: \"/Tensorflow/docker-multiple/ResNet/resnet50-cifar-ckpt/model.ckpt-102370\"\n",
      "\n",
      "all_model_checkpoint_paths: \"/Tensorflow/docker-multiple/ResNet/resnet50-cifar-ckpt/model.ckpt-104168\"\n",
      "\n",
      "all_model_checkpoint_paths: \"/Tensorflow/docker-multiple/ResNet/resnet50-cifar-ckpt/model.ckpt-105952\"\n",
      "\n",
      "all_model_checkpoint_paths: \"/Tensorflow/docker-multiple/ResNet/resnet50-cifar-ckpt/model.ckpt-107738\"\n",
      "\n"
     ]
    }
   ],
   "source": [
    "ckpt_dir= r'D:\\wangfeicheng\\Tensorflow\\docker-multiple\\ResNet\\resnet50-cifar-ckpt-20190218'\n",
    "file=os.path.join(ckpt_dir,'checkpoint')\n",
    "with open(file) as ckpt:\n",
    "    lines = ckpt.readlines()\n",
    "    for x in lines:\n",
    "        print(x)"
   ]
  },
  {
   "cell_type": "code",
   "execution_count": null,
   "metadata": {},
   "outputs": [
    {
     "name": "stdout",
     "output_type": "stream",
     "text": [
      "ERROR! Session/line number was not unique in database. History logging moved to new session 38\n"
     ]
    }
   ],
   "source": [
    "tf.reset_default_graph()\n",
    "\n",
    "graph = tf.Graph()\n",
    "with graph.as_default():\n",
    "    # Loading the graph first,then it can restore() the variable for this graph\n",
    "    graph_dir = os.path.join(ckpt_dir,'model.ckpt-107738.meta')\n",
    "    tf.train.import_meta_graph(graph_dir)\n",
    "    saver = tf.train.Saver() # Gets all variables in `graph`.\n",
    "\n",
    "def create_config_proto():\n",
    "    config= tf.ConfigProto()\n",
    "    config.allow_soft_placement=True\n",
    "    return config\n",
    "\n",
    "with tf.Session(graph=graph,config=create_config_proto()) as sess: \n",
    "    latest_ckpt_dir = tf.train.latest_checkpoint(ckpt_dir)\n",
    "    print(latest_ckpt_dir)\n",
    "    \n",
    "#     saver.restore(sess,ckpt_dir)\n",
    "#     sess.run()\n"
   ]
  },
  {
   "cell_type": "code",
   "execution_count": null,
   "metadata": {},
   "outputs": [
    {
     "name": "stdout",
     "output_type": "stream",
     "text": [
      "ERROR! Session/line number was not unique in database. History logging moved to new session 37\n"
     ]
    }
   ],
   "source": []
  },
  {
   "cell_type": "code",
   "execution_count": 4,
   "metadata": {},
   "outputs": [
    {
     "name": "stdout",
     "output_type": "stream",
     "text": [
      "['cond_context', 'global_step', 'global_step_read_op_cache', 'init_op', 'iterators', 'local_init_op', 'losses', 'ready_for_local_init_op', 'ready_op', 'savers', 'summaries', 'summary_op', 'train_op', 'trainable_variables', 'update_ops', 'variables']\n",
      "6743\n",
      "\n"
     ]
    }
   ],
   "source": [
    "print(graph.get_all_collection_keys())\n",
    "print(graph.version)\n",
    "print(graph.get_name_scope())\n",
    "# print(graph.device())\n",
    "# print(graph.unique_name())"
   ]
  },
  {
   "cell_type": "code",
   "execution_count": null,
   "metadata": {},
   "outputs": [],
   "source": [
    "reader = pywrap_tensorflow.NewCheckpointReader(ckpt_dir)\n",
    "var_to_shape_map = reader.get_variable_to_shape_map()\n",
    "for key in var_to_shape_map:\n",
    "    print(\"tensor_name: \", key)\n",
    "#     print(reader.get_tensor(key)) "
   ]
  }
 ],
 "metadata": {
  "kernelspec": {
   "display_name": "Python 3",
   "language": "python",
   "name": "python3"
  },
  "language_info": {
   "codemirror_mode": {
    "name": "ipython",
    "version": 3
   },
   "file_extension": ".py",
   "mimetype": "text/x-python",
   "name": "python",
   "nbconvert_exporter": "python",
   "pygments_lexer": "ipython3",
   "version": "3.6.8"
  }
 },
 "nbformat": 4,
 "nbformat_minor": 2
}
