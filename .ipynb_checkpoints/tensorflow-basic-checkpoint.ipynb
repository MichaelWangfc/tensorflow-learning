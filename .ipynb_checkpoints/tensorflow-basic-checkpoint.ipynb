{
 "cells": [
  {
   "cell_type": "code",
   "execution_count": 3,
   "metadata": {},
   "outputs": [],
   "source": [
    "import tensorflow as tf\n",
    "import numpy as np"
   ]
  },
  {
   "cell_type": "code",
   "execution_count": 26,
   "metadata": {},
   "outputs": [
    {
     "name": "stdout",
     "output_type": "stream",
     "text": [
      "Tensor(\"Const_19:0\", shape=(3, 2), dtype=float32)\n",
      "[[[0. 1.]\n",
      "  [2. 3.]\n",
      "  [4. 5.]]]\n",
      "[1 3 2]\n"
     ]
    }
   ],
   "source": [
    "a = np.arange(6).reshape((3,2))\n",
    "a = tf.constant(a,dtype=tf.float32)\n",
    "print(a)\n",
    "\n",
    "# a =tf.constant([1],dtype=tf.int8)\n",
    "with tf.Session() as sess:\n",
    "#     print(sess.run(tf.reduce_mean(a,1)))\n",
    "    b = tf.expand_dims(a,0)\n",
    "    print(sess.run(b))\n",
    "    print(sess.run(tf.shape(b)))\n"
   ]
  },
  {
   "cell_type": "code",
   "execution_count": null,
   "metadata": {},
   "outputs": [],
   "source": [
    "\n"
   ]
  }
 ],
 "metadata": {
  "kernelspec": {
   "display_name": "Python 3",
   "language": "python",
   "name": "python3"
  },
  "language_info": {
   "codemirror_mode": {
    "name": "ipython",
    "version": 3
   },
   "file_extension": ".py",
   "mimetype": "text/x-python",
   "name": "python",
   "nbconvert_exporter": "python",
   "pygments_lexer": "ipython3",
   "version": "3.6.5"
  }
 },
 "nbformat": 4,
 "nbformat_minor": 2
}
