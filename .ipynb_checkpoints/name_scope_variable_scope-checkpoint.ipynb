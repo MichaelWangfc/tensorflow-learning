{
 "cells": [
  {
   "cell_type": "code",
   "execution_count": 13,
   "metadata": {},
   "outputs": [],
   "source": [
    "import tensorflow as tf\n",
    "import os\n",
    "import numpy as np"
   ]
  },
  {
   "cell_type": "code",
   "execution_count": 11,
   "metadata": {},
   "outputs": [],
   "source": [
    "log_dir  = os.path.join(os.getcwd(),'log')"
   ]
  },
  {
   "cell_type": "code",
   "execution_count": 58,
   "metadata": {},
   "outputs": [
    {
     "name": "stdout",
     "output_type": "stream",
     "text": [
      "<class 'tensorflow.python.ops.variables.RefVariable'>\n",
      "<class 'tensorflow.python.ops.variables.RefVariable'>\n",
      "<class 'tensorflow.python.ops.variables.RefVariable'>\n",
      "<class 'tensorflow.python.ops.variables.RefVariable'>\n",
      "<class 'tensorflow.python.ops.variables.RefVariable'> \n",
      " <tf.Variable 'hiden_var_1/weights:0' shape=(5, 50) dtype=float32_ref>\n"
     ]
    },
    {
     "data": {
      "text/plain": [
       "array([[ -15.168962,   47.05674 ,   22.647287],\n",
       "       [ -65.78307 ,   73.17123 ,   80.66057 ],\n",
       "       [-116.397194,   99.285736,  138.67392 ],\n",
       "       [-167.0113  ,  125.40028 ,  196.6872  ],\n",
       "       [-217.62543 ,  151.5147  ,  254.70049 ],\n",
       "       [-268.2395  ,  177.6292  ,  312.71378 ],\n",
       "       [-318.85364 ,  203.74368 ,  370.72702 ],\n",
       "       [-369.46777 ,  229.85823 ,  428.7404  ],\n",
       "       [-420.08188 ,  255.97275 ,  486.75372 ],\n",
       "       [-470.69595 ,  282.08728 ,  544.7671  ]], dtype=float32)"
      ]
     },
     "execution_count": 58,
     "metadata": {},
     "output_type": "execute_result"
    }
   ],
   "source": [
    "tf.reset_default_graph()\n",
    "\n",
    "with tf.Graph().as_default() as graph:\n",
    "    x1 = tf.placeholder(dtype = tf.float32, shape = (10,5))\n",
    "    x2 = tf.placeholder(dtype = tf.float32,shape = (5,5))\n",
    "    \n",
    "    def fully_connected(x, output_dim, name_scope,scope):\n",
    "        with tf.name_scope(name_scope) as name_scope:\n",
    "            #under the differnet scope,then we can resuse the variable with the same name within different scope\n",
    "            #which then diffenential the variable \n",
    "            with tf.variable_scope(scope,reuse=tf.AUTO_REUSE) as scope:\n",
    "                w = tf.get_variable(\"weights\", [x.shape[1], output_dim], initializer=tf.random_normal_initializer())\n",
    "                b = tf.get_variable(\"biases\", [output_dim], initializer=tf.constant_initializer(0.0))\n",
    "            output = tf.matmul(x, w) + b\n",
    "            return output\n",
    "\n",
    "    def two_hidden_layers(x):\n",
    "        h1 = fully_connected(x, 50, 'layer1','hiden_var_1')\n",
    "        h2 = fully_connected(h1, 3, 'layer2','hiden_var_2')\n",
    "        return h2\n",
    "\n",
    "    # with tf.variable_scope('two_layers') as scope:\n",
    "    logits1 = two_hidden_layers(x1)\n",
    "    # Now we want to reuse the variable of the graph\n",
    "    # scope.reuse_variables()\n",
    "    logits2 = two_hidden_layers(x2)\n",
    "        \n",
    "graphdef = graph.as_graph_def()\n",
    "# print(graphdef)\n",
    "\n",
    "\n",
    "\n",
    "with tf.Session(graph=graph) as sess:\n",
    "    variables = tf.get_collection(tf.GraphKeys.GLOBAL_VARIABLES, scope='hiden_var_1')\n",
    "    print(type(variables[0]),'\\n',variables[0])\n",
    "    \n",
    "    x1_np = np.arange(50).reshape((10,5)).astype(np.float32)\n",
    "    x2_np = np.arange(25).reshape((5,5)).astype(np.float32)\n",
    "    \n",
    "    init = tf.global_variables_initializer()\n",
    "    sess.run(init)\n",
    "    logits1_value,logits2_value = sess.run([logits1,logits2], feed_dict ={x1:x1_np,x2:x2_np} )\n",
    "    writer=tf.summary.FileWriter(log_dir,graph)\n",
    "logits1_value"
   ]
  }
 ],
 "metadata": {
  "kernelspec": {
   "display_name": "Python 3",
   "language": "python",
   "name": "python3"
  },
  "language_info": {
   "codemirror_mode": {
    "name": "ipython",
    "version": 3
   },
   "file_extension": ".py",
   "mimetype": "text/x-python",
   "name": "python",
   "nbconvert_exporter": "python",
   "pygments_lexer": "ipython3",
   "version": "3.6.8"
  }
 },
 "nbformat": 4,
 "nbformat_minor": 2
}
