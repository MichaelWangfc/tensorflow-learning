{
 "cells": [
  {
   "cell_type": "markdown",
   "metadata": {},
   "source": [
    "装饰器本质上是一个 Python 函数或类，  \n",
    "它可以让其他函数或类在不需要做任何代码修改的前提下增加额外功能，装饰器的返回值也是一个函数/类对象。  \n",
    "它经常用于有切面需求的场景，比如：插入日志、性能测试、事务处理、缓存、权限校验等场景，装饰器是解决这类问题的绝佳设计。  \n",
    "有了装饰器，我们就可以抽离出大量与函数功能本身无关的雷同代码到装饰器中并继续重用。  \n",
    "概括的讲，装饰器的作用就是为已经存在的对象添加额外的功能。"
   ]
  },
  {
   "cell_type": "markdown",
   "metadata": {},
   "source": [
    "## 简单装饰器\n",
    "use_logging 就是一个装饰器，它一个普通的函数，它把执行真正业务逻辑的函数 func 包裹在其中，看起来像 foo 被 use_logging 装饰了一样，use_logging 返回的也是一个函数，这个函数的名字叫 wrapper。在这个例子中，函数进入和退出时 ，被称为一个横切面，这种编程方式被称为面向切面的编程。\n"
   ]
  },
  {
   "cell_type": "code",
   "execution_count": 11,
   "metadata": {},
   "outputs": [
    {
     "name": "stderr",
     "output_type": "stream",
     "text": [
      "WARNING:root:foo is running\n"
     ]
    },
    {
     "name": "stdout",
     "output_type": "stream",
     "text": [
      "i am foo\n"
     ]
    }
   ],
   "source": [
    "import logging\n",
    "def use_logging(func):\n",
    "    def wrapper():\n",
    "        logging.warning(\"%s is running\" % func.__name__)\n",
    "        return func()   # 把 foo 当做参数传递进来时，执行func()就相当于执行foo()\n",
    "    return wrapper\n",
    "\n",
    "def foo():\n",
    "    print('i am foo')\n",
    "\n",
    "foo = use_logging(foo)  # 因为装饰器 use_logging(foo) 返回的时函数对象 wrapper，这条语句相当于  foo = wrapper\n",
    "foo()                   # 执行foo()就相当于执行 wrapper()"
   ]
  },
  {
   "cell_type": "markdown",
   "metadata": {},
   "source": [
    "## @ 语法糖\n",
    "如果你接触 Python 有一段时间了的话，想必你对 @ 符号一定不陌生了，没错 @ 符号就是装饰器的语法糖，它放在函数开始定义的地方，这样就可以省略最后一步再次赋值的操作。\n",
    "\n",
    "其实就是 foo = use_logging(foo) # 即 foo 作为参数传递给 use_logging。\n",
    "\n",
    "此后的 foo 是装饰器中的 wrapper 函数对象了，而不是原来的函数的名称。当调用 foo 的时候，其实调用的是 wrapper() 函数,而在dec函数内部，又调用了  foo ，这样就造成了装饰器的效果。\n",
    "\n",
    "这也解释了 foo 是被装饰函数，*arg是被装饰函数的参数—这种现象了。\n",
    "\n"
   ]
  },
  {
   "cell_type": "code",
   "execution_count": 14,
   "metadata": {},
   "outputs": [
    {
     "name": "stderr",
     "output_type": "stream",
     "text": [
      "WARNING:root:foo is running\n",
      "WARNING:root:duo is running\n"
     ]
    },
    {
     "name": "stdout",
     "output_type": "stream",
     "text": [
      "i am foo\n",
      "I am duo\n"
     ]
    }
   ],
   "source": [
    "def use_logging(func):\n",
    "    def wrapper():\n",
    "        logging.warning(\"%s is running\" % func.__name__)\n",
    "        return func()\n",
    "    return wrapper\n",
    "\n",
    "@use_logging\n",
    "def foo():\n",
    "    print(\"i am foo\")\n",
    "\n",
    "foo()\n",
    "\n",
    "@use_logging\n",
    "def duo():\n",
    "    print('I am duo')\n",
    "\n",
    "duo()"
   ]
  },
  {
   "cell_type": "markdown",
   "metadata": {},
   "source": [
    "如上所示，有了 @ ，我们就可以省去foo = use_logging(foo)这一句了，直接调用 foo() 即可得到想要的结果。你们看到了没有，foo() 函数不需要做任何修改，只需在定义的地方加上装饰器，调用的时候还是和以前一样，如果我们有其他的类似函数，我们可以继续调用装饰器来修饰函数，而不用重复修改函数或者增加新的封装。这样，我们就提高了程序的可重复利用性，并增加了程序的可读性。\n",
    "\n",
    "装饰器在 Python 使用如此方便都要归因于 Python 的函数能像普通的对象一样能作为参数传递给其他函数，可以被赋值给其他变量，可以作为返回值，可以被定义在另外一个函数内。"
   ]
  },
  {
   "cell_type": "markdown",
   "metadata": {},
   "source": [
    "## *args、**kwargs\n",
    "可能有人问，如果我的业务逻辑函数 foo 需要参数怎么办？  \n",
    "当装饰器不知道 foo 到底有多少个参数时，我们可以用 *args 来代替\n",
    "如果 foo 函数还定义了一些关键字参数,我们可以用 **kargs 来代替"
   ]
  },
  {
   "cell_type": "code",
   "execution_count": 29,
   "metadata": {},
   "outputs": [
    {
     "name": "stderr",
     "output_type": "stream",
     "text": [
      "WARNING:root:foo is running\n"
     ]
    },
    {
     "name": "stdout",
     "output_type": "stream",
     "text": [
      "i am Michael\n"
     ]
    }
   ],
   "source": [
    "def use_logging(func):\n",
    "    def wrapper(*args,**kwargs):\n",
    "        logging.warning(\"%s is running\" % func.__name__)\n",
    "        return func(*args,**kwargs)\n",
    "    return wrapper\n",
    "\n",
    "@use_logging\n",
    "def foo(name):\n",
    "    print(\"i am %s\" % name)\n",
    "\n",
    "foo('Michael')"
   ]
  },
  {
   "cell_type": "markdown",
   "metadata": {},
   "source": [
    "## 带参数的装饰器\n",
    "带参数的decorator，作用是通过传递参数可以定制不同的装饰器。  \n",
    "装饰器还有更大的灵活性，例如带参数的装饰器，在上面的装饰器调用中，该装饰器接收唯一的参数就是执行业务的函数 foo 。  \n",
    "装饰器的语法允许我们在调用时，提供其它参数，  \n",
    "比如@decorator(a)  \n",
    "这样，就为装饰器的编写和使用提供了更大的灵活性。  \n",
    "比如，我们可以在装饰器中指定日志的等级，因为不同业务函数可能需要的日志级别是不一样的。\n"
   ]
  },
  {
   "cell_type": "code",
   "execution_count": 21,
   "metadata": {},
   "outputs": [
    {
     "name": "stdout",
     "output_type": "stream",
     "text": [
      "i am foo\n"
     ]
    }
   ],
   "source": [
    "def use_logging(level):\n",
    "    def decorator(func):\n",
    "        def wrapper(*args, **kwargs):\n",
    "            if level == \"warn\":\n",
    "                logging.warning(\"%s is running\" % func.__name__)\n",
    "            elif level == \"info\":\n",
    "                logging.info(\"%s is running\" % func.__name__)\n",
    "            return func(*args)\n",
    "        return wrapper\n",
    "\n",
    "    return decorator\n",
    "\n",
    "@use_logging(level=\"info\")\n",
    "def foo(name='foo'):\n",
    "    print(\"i am %s\" % name)\n",
    "\n",
    "foo()"
   ]
  },
  {
   "cell_type": "markdown",
   "metadata": {},
   "source": [
    "内部逻辑为： foo = use_logging('info')(foo)\n",
    "\n",
    "这里 use_logging('info') 返回是 decorator 函数对象，  \n",
    "这样的话，use_logging('info')(foo) 其实就是 decorator(foo)，这样就和上面的一样了。\n",
    "只不过这里传递了一个参数 'info' 进入decorator内部，使得我们可以操作这个参数。\n",
    "\n",
    "\n",
    "上面的 use_logging 是允许带参数的装饰器。它实际上是对原有装饰器的一个函数封装，并返回一个装饰器。我们可以将它理解为一个含有参数的闭包。当我 们使用@use_logging(level=\"warn\")调用的时候，Python 能够发现这一层的封装，并把参数传递到装饰器的环境中。\n",
    "\n",
    "@use_logging(level=\"warn\")等价于@decorator"
   ]
  },
  {
   "cell_type": "markdown",
   "metadata": {},
   "source": [
    "## Function Decorator\n",
    "Let us now, write a simple function decorator for ourselves. We will write a decorator that would measure the execution time of the function passed to it."
   ]
  },
  {
   "cell_type": "code",
   "execution_count": 4,
   "metadata": {},
   "outputs": [],
   "source": [
    "import time\n",
    "\n",
    "def timetest(input_func):\n",
    "\n",
    "    def timed(*args, **kwargs):\n",
    "        start_time = time.time()\n",
    "        result = input_func(*args, **kwargs)\n",
    "        end_time = time.time()\n",
    "        print(\"Method Name - {0}, Args - {1}, Kwargs - {2}, Execution Time - {3}\".format(\n",
    "            input_func.__name__,\n",
    "            args,\n",
    "            kwargs,\n",
    "            end_time - start_time))\n",
    "        return result\n",
    "    return timed\n",
    "\n",
    "@timetest\n",
    "def foobar(*args, **kwargs):\n",
    "    time.sleep(0.3)\n",
    "    print(\"inside foobar\")\n",
    "    print(args, kwargs)"
   ]
  },
  {
   "cell_type": "code",
   "execution_count": 5,
   "metadata": {},
   "outputs": [
    {
     "name": "stdout",
     "output_type": "stream",
     "text": [
      "inside foobar\n",
      "(['hello, world'],) {'foo': 2, 'bar': 5}\n",
      "Method Name - foobar, Args - (['hello, world'],), Kwargs - {'foo': 2, 'bar': 5}, Execution Time - 0.3066873550415039\n"
     ]
    }
   ],
   "source": [
    "foobar([\"hello, world\"], foo=2, bar=5)"
   ]
  },
  {
   "cell_type": "markdown",
   "metadata": {},
   "source": [
    "We passed the function foobar to decorator named timetest. Inside decorator, function foobar is referenced as variable input_func. The result, post execution of input_func is referred as result.\n",
    "\n",
    "Prepending @ to the name of the decorator, and writing the same above a function calls the decorator, and passes the function to the decorator(decorates)."
   ]
  },
  {
   "cell_type": "markdown",
   "metadata": {},
   "source": [
    "## Method Decorator\n",
    "函数decorator可以修饰类成员函数  \n",
    "Method decorators allow overriding class properties by decorating, without having to find the calling function.\n",
    "\n",
    "in the snippet shown above, we decorate the class method print_test. The method_decorator prints the name of the city, if the name of city instance is not SFO.\n",
    "\n",
    "原理：注意此时 print_test 的self会被传递到 method_decorator 中。此时把self看做普通的函数入参。"
   ]
  },
  {
   "cell_type": "code",
   "execution_count": 8,
   "metadata": {},
   "outputs": [
    {
     "name": "stdout",
     "output_type": "stream",
     "text": [
      "SFA\n"
     ]
    }
   ],
   "source": [
    "def method_decorator(method):\n",
    "    def inner(city_instance):\n",
    "        if city_instance.name == \"SFO\":\n",
    "            print (\"Its a cool place to live in.\")\n",
    "        else:\n",
    "            method(city_instance)\n",
    "    return inner\n",
    "\n",
    "\n",
    "class City(object):\n",
    "    def __init__(self, name):\n",
    "        self.name = name\n",
    "\n",
    "    @method_decorator\n",
    "    def print_test(self):\n",
    "        print (self.name)\n",
    "\n",
    "p1 = City(\"SFA\")\n",
    "\n",
    "p1.print_test()"
   ]
  },
  {
   "cell_type": "markdown",
   "metadata": {},
   "source": [
    "## @property\n",
    "Python内置的@property装饰器就是负责把一个方法变成属性调用的："
   ]
  },
  {
   "cell_type": "code",
   "execution_count": 30,
   "metadata": {},
   "outputs": [],
   "source": [
    "class Student(object):\n",
    "\n",
    "    @property\n",
    "    def score(self):\n",
    "        return self._score\n",
    "\n",
    "    @score.setter\n",
    "    def score(self, value):\n",
    "        if not isinstance(value, int):\n",
    "            raise ValueError('score must be an integer!')\n",
    "        if value < 0 or value > 100:\n",
    "            raise ValueError('score must between 0 ~ 100!')\n",
    "        self._score = value"
   ]
  },
  {
   "cell_type": "markdown",
   "metadata": {},
   "source": [
    "@property的实现比较复杂，我们先考察如何使用。把一个getter方法变成属性，只需要加上@property就可以了，  \n",
    "此时，@property本身又创建了另一个装饰器@score.setter，负责把一个setter方法变成属性赋值，  \n",
    "于是，我们就拥有一个可控的属性操作：\n",
    "\n",
    "注意到这个神奇的@property，我们在对实例属性操作的时候，就知道该属性很可能不是直接暴露的，而是通过getter和setter方法来实现的。"
   ]
  },
  {
   "cell_type": "code",
   "execution_count": 35,
   "metadata": {},
   "outputs": [
    {
     "data": {
      "text/plain": [
       "60"
      ]
     },
     "execution_count": 35,
     "metadata": {},
     "output_type": "execute_result"
    }
   ],
   "source": [
    "s =Student()\n",
    "s.score=60\n",
    "s.score"
   ]
  },
  {
   "cell_type": "markdown",
   "metadata": {},
   "source": [
    "## 类装饰器\n",
    "没错，装饰器不仅可以是函数，还可以是类，相比函数装饰器，类装饰器具有灵活度大、高内聚、封装性等优点。  \n",
    "使用类装饰器主要依靠类的__call__方法，当使用 @ 形式将装饰器附加到函数上时，就会调用此方法。\n"
   ]
  },
  {
   "cell_type": "code",
   "execution_count": 22,
   "metadata": {},
   "outputs": [
    {
     "name": "stdout",
     "output_type": "stream",
     "text": [
      "class decorator runing\n",
      "bar\n",
      "class decorator ending\n"
     ]
    }
   ],
   "source": [
    "class Foo(object):\n",
    "    def __init__(self, func):\n",
    "        self._func = func\n",
    "\n",
    "    def __call__(self):\n",
    "        print ('class decorator runing')\n",
    "        self._func()\n",
    "        print ('class decorator ending')\n",
    "\n",
    "@Foo\n",
    "def bar():\n",
    "    print ('bar')\n",
    "\n",
    "bar()"
   ]
  },
  {
   "cell_type": "markdown",
   "metadata": {},
   "source": [
    "## functools.wraps\n",
    "使用装饰器极大地复用了代码，但是他有一个缺点就是原函数的元信息不见了，比如函数的docstring、__name__、参数列表，先看例子：\n"
   ]
  },
  {
   "cell_type": "code",
   "execution_count": 28,
   "metadata": {},
   "outputs": [
    {
     "name": "stdout",
     "output_type": "stream",
     "text": [
      "f\n",
      "does some math\n"
     ]
    },
    {
     "data": {
      "text/plain": [
       "30"
      ]
     },
     "execution_count": 28,
     "metadata": {},
     "output_type": "execute_result"
    }
   ],
   "source": [
    "# 装饰器\n",
    "def logged(func):\n",
    "    def with_logging(*args, **kwargs):\n",
    "        print (func.__name__)     # 输出 'with_logging'\n",
    "        print (func.__doc__ )      # 输出 None\n",
    "        return func(*args, **kwargs)\n",
    "    return with_logging\n",
    "\n",
    "# 函数\n",
    "@logged\n",
    "def f(x):\n",
    "   \"\"\"does some math\"\"\"\n",
    "   return x + x * x\n",
    "\n",
    "f(5)"
   ]
  },
  {
   "cell_type": "markdown",
   "metadata": {},
   "source": [
    "## 装饰器顺序\n",
    "一个函数还可以同时定义多个装饰器，比如：  \n",
    "它的执行顺序是从里到外，最先调用最里层的装饰器，最后调用最外层的装饰器，它等效于\n",
    "\n",
    "f = a(b(c(f)))"
   ]
  },
  {
   "cell_type": "code",
   "execution_count": null,
   "metadata": {},
   "outputs": [],
   "source": [
    "@a\n",
    "@b\n",
    "@c\n",
    "def f ():\n",
    "    pass\n"
   ]
  }
 ],
 "metadata": {
  "kernelspec": {
   "display_name": "Python 3",
   "language": "python",
   "name": "python3"
  },
  "language_info": {
   "codemirror_mode": {
    "name": "ipython",
    "version": 3
   },
   "file_extension": ".py",
   "mimetype": "text/x-python",
   "name": "python",
   "nbconvert_exporter": "python",
   "pygments_lexer": "ipython3",
   "version": "3.6.8"
  }
 },
 "nbformat": 4,
 "nbformat_minor": 2
}
