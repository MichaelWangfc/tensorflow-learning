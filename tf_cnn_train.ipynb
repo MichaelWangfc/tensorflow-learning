{
 "cells": [
  {
   "cell_type": "code",
   "execution_count": 25,
   "metadata": {},
   "outputs": [],
   "source": [
    "import tensorflow as tf\n",
    "from models import alexnet_model\n",
    "from models import model_config\n",
    "from models import convnet_builder\n",
    "import numpy as np"
   ]
  },
  {
   "cell_type": "code",
   "execution_count": null,
   "metadata": {},
   "outputs": [],
   "source": []
  },
  {
   "cell_type": "markdown",
   "metadata": {},
   "source": [
    "## 建立模型的实例\n",
    "model --> CNNModel --> alexnet_model"
   ]
  },
  {
   "cell_type": "code",
   "execution_count": 6,
   "metadata": {},
   "outputs": [
    {
     "data": {
      "text/plain": [
       "'NCHW'"
      ]
     },
     "execution_count": 6,
     "metadata": {},
     "output_type": "execute_result"
    }
   ],
   "source": [
    "class paramters(object):\n",
    "    def __init__(self):\n",
    "        self.data_format='NCHW'\n",
    "        \n",
    "params = paramters()\n",
    "params.data_format"
   ]
  },
  {
   "cell_type": "code",
   "execution_count": 49,
   "metadata": {},
   "outputs": [],
   "source": [
    "# tf.reset_default_graph()\n",
    "# def get_variable(self, name, shape, dtype, cast_dtype, *args, **kwargs):\n",
    "#     # TODO(reedwm): Currently variables and gradients are transferred to other\n",
    "#     # devices and machines as type `dtype`, not `cast_dtype`. In particular,\n",
    "#     # this means in fp16 mode, variables are transferred as fp32 values, not\n",
    "#     # fp16 values, which uses extra bandwidth.\n",
    "#     var = tf.get_variable(name, shape, dtype, *args, **kwargs)\n",
    "#     return tf.cast(var, cast_dtype)\n",
    "\n",
    "# num_out_channels=4\n",
    "# variable_dtype=tf.float32\n",
    "# dtype= tf.float32\n",
    "# bias=1\n",
    "\n",
    "\n",
    "# def get_variable(name, shape, dtype, cast_dtype, *args, **kwargs):\n",
    "#     # TODO(reedwm): Currently variables and gradients are transferred to other\n",
    "#     # devices and machines as type `dtype`, not `cast_dtype`. In particular,\n",
    "#     # this means in fp16 mode, variables are transferred as fp32 values, not\n",
    "#     # fp16 values, which uses extra bandwidth.\n",
    "#     var = tf.get_variable(name, shape, dtype, *args, **kwargs)\n",
    "#     return tf.cast(var, cast_dtype)\n",
    "\n",
    "# biases = get_variable('biases', [num_out_channels],\n",
    "#                                      variable_dtype, dtype,\n",
    "#                                      initializer=tf.constant_initializer(bias))\n",
    "# print(biases)\n",
    "# data_format= 'NCHW'\n",
    "# conv = tf.placeholder(name='conv',shape=(None,4,3,3),dtype= tf.float32) \n",
    "# print(conv)\n",
    "\n",
    "# biased = tf.reshape(\n",
    "#   tf.nn.bias_add(conv, biases, data_format=data_format),\n",
    "#   conv.get_shape())\n",
    "\n",
    "# # biased = tf.nn.bias_add(conv, biases, data_format=data_format)\n",
    "\n",
    "# with tf.Session() as sess:\n",
    "#     init = tf.global_variables_initializer()\n",
    "#     sess.run(init)\n",
    "# #     print(sess.run(biases).shape)\n",
    "#     biased_value = sess.run(biased,feed_dict = {conv: data})\n",
    "\n",
    "#     print(biased_value)"
   ]
  },
  {
   "cell_type": "code",
   "execution_count": 55,
   "metadata": {},
   "outputs": [
    {
     "name": "stdout",
     "output_type": "stream",
     "text": [
      "alexnet\n",
      "128\n",
      "[[128, 32, 32, 3], [128]]\n"
     ]
    }
   ],
   "source": [
    "tf.reset_default_graph()\n",
    "graph =tf.Graph()\n",
    "with graph.as_default():\n",
    "    \n",
    "    images = tf.placeholder(tf.float32, shape = (10,3,32,32))\n",
    "    input_nchan = 1\n",
    "    phase_train = True\n",
    "    use_tf_layers = True\n",
    "    network = convnet_builder.ConvNetBuilder(input_op = images,input_nchan = input_nchan,\n",
    "                                             phase_train = phase_train,use_tf_layers= use_tf_layers,data_format='NCHW')\n",
    "    \n",
    "    \n",
    "    model_name = 'alexnet'\n",
    "    dataset = 'cifar10'\n",
    "    # create the instance of model from model_config\n",
    "    alexnet = model_config.get_model_config(model_name,dataset,params=None)\n",
    "    \n",
    "    alexnet.add_inference(network)\n",
    "    \n",
    "    # show the atrributes of the instance\n",
    "    print(alexnet.get_model_name())\n",
    "    print(alexnet.get_batch_size())\n",
    "    print(alexnet.get_input_shapes('train'))\n",
    "    \n",
    "    \n",
    "  \n",
    "    \n",
    "    \n",
    "with tf.Session() as sess:\n",
    "    init = tf.initialize_all_variables()\n",
    "    sess.run(init)\n",
    "    writer = tf.summary.FileWriter('log',graph=graph)\n",
    "    "
   ]
  },
  {
   "cell_type": "code",
   "execution_count": null,
   "metadata": {},
   "outputs": [],
   "source": []
  },
  {
   "cell_type": "code",
   "execution_count": 7,
   "metadata": {},
   "outputs": [
    {
     "name": "stdout",
     "output_type": "stream",
     "text": [
      "alexnet\n",
      "128\n",
      "0.010000001\n"
     ]
    }
   ],
   "source": [
    "\n",
    "\n",
    "with tf.Session() as sess:\n",
    "    learning_rate = alexnet.get_learning_rate(global_step=50001,batch_size=100)\n",
    "    print(sess.run(learning_rate))"
   ]
  },
  {
   "cell_type": "code",
   "execution_count": null,
   "metadata": {},
   "outputs": [],
   "source": [
    "alexnet.add_inference()"
   ]
  }
 ],
 "metadata": {
  "kernelspec": {
   "display_name": "Python 3",
   "language": "python",
   "name": "python3"
  },
  "language_info": {
   "codemirror_mode": {
    "name": "ipython",
    "version": 3
   },
   "file_extension": ".py",
   "mimetype": "text/x-python",
   "name": "python",
   "nbconvert_exporter": "python",
   "pygments_lexer": "ipython3",
   "version": "3.6.8"
  }
 },
 "nbformat": 4,
 "nbformat_minor": 2
}
