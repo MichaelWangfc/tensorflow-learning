{
 "cells": [
  {
   "cell_type": "code",
   "execution_count": 152,
   "metadata": {},
   "outputs": [],
   "source": [
    "import tensorflow as tf\n",
    "import numpy as np\n",
    "from IPython.display import Image\n",
    "import os\n",
    "import matplotlib.pyplot as plt\n",
    "import time\n",
    "# from PIL import Image\n",
    "\n",
    "plt.rcParams['figure.figsize'] = (16.0, 16.0)\n",
    "\n",
    "%matplotlib inline "
   ]
  },
  {
   "cell_type": "markdown",
   "metadata": {},
   "source": [
    "# TensorFlow全新的数据读取方式：Dataset API"
   ]
  },
  {
   "cell_type": "markdown",
   "metadata": {},
   "source": [
    "Data Input Pipeline Performance:\n",
    "https://www.tensorflow.org/guide/performance/datasets\n",
    "\n",
    "TensorFlow全新的数据读取方式：Dataset API入门教程:\n",
    "https://zhuanlan.zhihu.com/p/30751039  \n",
    "\n",
    "性能优化\n",
    "http://d0evi1.com/tensorflow/performance/\n",
    "\n"
   ]
  },
  {
   "cell_type": "code",
   "execution_count": 17,
   "metadata": {},
   "outputs": [
    {
     "data": {
      "image/jpeg": "[encoded data removed]",
      "text/plain": [
       "<IPython.core.display.Image object>"
      ]
     },
     "execution_count": 17,
     "metadata": {},
     "output_type": "execute_result"
    }
   ],
   "source": [
    "Image(filename=r'D:\\wangfeicheng\\Tensorflow\\tensorflow-learning\\images\\Dataset_api.jpg')"
   ]
  },
  {
   "cell_type": "markdown",
   "metadata": {},
   "source": [
    "两个最重要的基础类：\n",
    "- Dataset  \n",
    "Dataset可以看作是相同类型“元素”的有序列表。在实际使用时，单个“元素”可以是向量，也可以是字符串、图片，甚至是tuple或者dict。\n",
    "- Iterator\n",
    "\n"
   ]
  },
  {
   "cell_type": "markdown",
   "metadata": {},
   "source": [
    "\n",
    "## Extract: 创建Dataset的方式：\n",
    "从内存读取创建Dataset的方式：\n",
    "- tf.data.Dataset.from_tensor_slices(): \n",
    "\n",
    "目前Dataset API还提供了另外三种硬盘的读取创建Dataset的方式：\n",
    "- tf.data.TextLineDataset()：  \n",
    "  这个函数的输入是一个文件的列表，输出是一个dataset.\n",
    "  dataset中的每一个元素就对应了文件中的一行。  \n",
    "  可以使用这个函数来读入CSV文件。\n",
    "- tf.data.FixedLengthRecordDataset()：  \n",
    "  这个函数的输入是一个文件的列表和一个record_bytes，之后dataset的每一个元素就是文件中固定字节数record_bytes的内容。  \n",
    "  通常用来读取以二进制形式保存的文件，如CIFAR10数据集就是这种形式。\n",
    "- tf.data.TFRecordDataset(file,num_parallel_reads)：  \n",
    "  这个函数是用来读TFRecord文件的  \n",
    "  dataset中的每一个元素就是一个TFExample    \n",
    "  num_parallel_reads: feed data in a parallel thread"
   ]
  },
  {
   "cell_type": "markdown",
   "metadata": {},
   "source": [
    "## tf.data.Dataset.from_tensor_slices():  从内存读取创建Dataset的方式：\n"
   ]
  },
  {
   "cell_type": "code",
   "execution_count": 20,
   "metadata": {},
   "outputs": [],
   "source": [
    "sess = tf.InteractiveSession()"
   ]
  },
  {
   "cell_type": "code",
   "execution_count": 33,
   "metadata": {},
   "outputs": [
    {
     "name": "stdout",
     "output_type": "stream",
     "text": [
      "<TensorSliceDataset shapes: (2,), types: tf.float64>\n"
     ]
    }
   ],
   "source": [
    "dataset = tf.data.Dataset.from_tensor_slices(np.random.uniform(size = (5,2)))\n",
    "print(dataset)"
   ]
  },
  {
   "cell_type": "code",
   "execution_count": 34,
   "metadata": {},
   "outputs": [
    {
     "name": "stdout",
     "output_type": "stream",
     "text": [
      "[0.19748575 0.88118175]\n",
      "[0.85730123 0.27503344]\n",
      "[0.50192365 0.83935051]\n",
      "[0.58032887 0.63073654]\n",
      "[0.27947467 0.2827759 ]\n"
     ]
    }
   ],
   "source": [
    "iterator = dataset.make_one_shot_iterator()\n",
    "one_element = iterator.get_next()\n",
    "for i in range(5):\n",
    "    print(sess.run(one_element))"
   ]
  },
  {
   "cell_type": "markdown",
   "metadata": {},
   "source": [
    "tf.data.Dataset.from_tensor_slices():    \n",
    "切分传入Tensor的第一个维度，生成相应的dataset。最后生成的dataset中一个含有5个元素，每个元素的形状是(2, )，即每个元素是矩阵的一行。  \n",
    "在实际使用中，我们可能还希望Dataset中的每个元素具有更复杂的形式，如每个元素是一个Python中的元组，或是Python中的词典。例如，在图像识别问题中，一个元素可以是{\"image\": image_tensor, \"label\": label_tensor}的形式，这样处理起来更方便。\n",
    "\n",
    "语句iterator = dataset.make_one_shot_iterator()从dataset中实例化了一个Iterator，这个Iterator是一个“one shot iterator”，即只能从头到尾读取一次。one_element = iterator.get_next()表示从iterator里取出一个元素。由于这是非Eager模式，所以one_element只是一个Tensor，并不是一个实际的值。调用sess.run(one_element)后，才能真正地取出一个值。"
   ]
  },
  {
   "cell_type": "markdown",
   "metadata": {},
   "source": [
    "# Transformation"
   ]
  },
  {
   "cell_type": "markdown",
   "metadata": {},
   "source": [
    "Dataset支持一类特殊的操作：Transformation。  \n",
    "一个Dataset通过Transformation变成一个新的Dataset。  \n",
    "通常我们可以通过Transformation完成数据变换，打乱，组成batch，生成epoch等一系列操作。  \n",
    "\n",
    "常用的Transformation有：\n",
    "- map\n",
    "- batch\n",
    "- shuffle\n",
    "- repeat\n"
   ]
  },
  {
   "cell_type": "markdown",
   "metadata": {},
   "source": [
    "### （1）map(parse_fn,number_parallel_calls)  \n",
    "map接收一个函数，Dataset中的每个元素都会被当作这个函数的输入，并将函数返回值作为新的Dataset，如我们可以对dataset中每个元素的值加1：\n",
    "- number_parallel_calls: parallize the pre-processing across multiple CPU cores,推荐设置为num of cpu cores\n"
   ]
  },
  {
   "cell_type": "code",
   "execution_count": 35,
   "metadata": {},
   "outputs": [
    {
     "name": "stdout",
     "output_type": "stream",
     "text": [
      "[1.19748575 1.88118175]\n",
      "[1.85730123 1.27503344]\n",
      "[1.50192365 1.83935051]\n",
      "[1.58032887 1.63073654]\n",
      "[1.27947467 1.2827759 ]\n"
     ]
    }
   ],
   "source": [
    "dataset_maped = dataset.map(lambda x: x + 1) # 2.0, 3.0, 4.0, 5.0, 6.0\n",
    "iterator = dataset_maped.make_one_shot_iterator()\n",
    "one_element = iterator.get_next()\n",
    "for i in range(5):\n",
    "    print(sess.run(one_element))"
   ]
  },
  {
   "cell_type": "markdown",
   "metadata": {},
   "source": [
    "### （2）batch(batch_size)  \n",
    "batch就是将多个元素组合成batch，如下面的程序将dataset中的每个元素组成了大小为32的batch：\n",
    "\n",
    "  dataset.apply(tf.contrib.data.map_and_batch(map_func,batch_func))"
   ]
  },
  {
   "cell_type": "code",
   "execution_count": 39,
   "metadata": {},
   "outputs": [
    {
     "name": "stdout",
     "output_type": "stream",
     "text": [
      "The 0th batch:\n",
      "[[0.19748575 0.88118175]\n",
      " [0.85730123 0.27503344]]\n",
      "The 1th batch:\n",
      "[[0.50192365 0.83935051]\n",
      " [0.58032887 0.63073654]]\n"
     ]
    }
   ],
   "source": [
    "dataset_batched = dataset.batch(batch_size=2,drop_remainder=True)\n",
    "iterator = dataset_batched.make_one_shot_iterator()\n",
    "one_element = iterator.get_next()\n",
    "for i in range(2):\n",
    "    print(\"The %dth batch:\" % i)\n",
    "    print(sess.run(one_element))"
   ]
  },
  {
   "cell_type": "markdown",
   "metadata": {},
   "source": [
    "### （3）shuffle(buffer_size)\n",
    "\n",
    "shuffle的功能为打乱dataset中的元素，它有一个参数buffersize，表示打乱时使用的buffer的大小：\n",
    "- buffer_size:"
   ]
  },
  {
   "cell_type": "code",
   "execution_count": 40,
   "metadata": {},
   "outputs": [
    {
     "name": "stdout",
     "output_type": "stream",
     "text": [
      "[0.19748575 0.88118175]\n",
      "[0.27947467 0.2827759 ]\n",
      "[0.58032887 0.63073654]\n",
      "[0.85730123 0.27503344]\n",
      "[0.50192365 0.83935051]\n"
     ]
    }
   ],
   "source": [
    "dataset_shuffled = dataset.shuffle(buffer_size=5,seed =123)\n",
    "iterator = dataset_shuffled.make_one_shot_iterator()\n",
    "one_element = iterator.get_next()\n",
    "for i in range(5):\n",
    "    print(sess.run(one_element))"
   ]
  },
  {
   "cell_type": "markdown",
   "metadata": {},
   "source": [
    "### （4）repeat(num_epochs)\n",
    "\n",
    "repeat的功能就是将整个序列重复多次，主要用来处理机器学习中的epoch，假设原先的数据是一个epoch，使用repeat(5)就可以将之变成5个epoch："
   ]
  },
  {
   "cell_type": "code",
   "execution_count": 41,
   "metadata": {},
   "outputs": [
    {
     "name": "stdout",
     "output_type": "stream",
     "text": [
      "[0.19748575 0.88118175]\n",
      "[0.85730123 0.27503344]\n",
      "[0.50192365 0.83935051]\n",
      "[0.58032887 0.63073654]\n",
      "[0.27947467 0.2827759 ]\n",
      "[0.19748575 0.88118175]\n",
      "[0.85730123 0.27503344]\n",
      "[0.50192365 0.83935051]\n",
      "[0.58032887 0.63073654]\n",
      "[0.27947467 0.2827759 ]\n"
     ]
    }
   ],
   "source": [
    "dataset_repeated = dataset.repeat(count = 2)\n",
    "iterator = dataset_repeated.make_one_shot_iterator()\n",
    "one_element = iterator.get_next()\n",
    "for i in range(10):\n",
    "    print(sess.run(one_element))"
   ]
  },
  {
   "cell_type": "markdown",
   "metadata": {},
   "source": [
    "## Load: Iterator.\n",
    "- dataset.make_one_shot_iterator()    \n",
    "一次性水管，单次 Iterator   \n",
    "在非Eager模式下，最简单的创建Iterator的方法就是通过dataset.make_one_shot_iterator()来创建一个one shot iterator。  \n",
    "单次的迭代器，不支持动态的数据集，它比较单纯，它不支持参数化\n",
    "\n",
    "\n",
    "- initializable iterator  \n",
    "可以定制的水管，可初始化的 Iterator  \n",
    "什么是参数化呢？你可以理解为单次的 Iterator 认死理，它需要 Dataset 在程序运行之前就确认自己的大小，但我们都知道 Tensorflow 中有一种 feeding 机制，它允许我们在程序运行时再真正决定我们需要的数据，很遗憾，单次的 Iterator 不能满足这要的要求。  \n",
    "initializable iterator必须要在使用前通过sess.run()来初始化。  \n",
    "使用initializable iterator，可以将placeholder代入Iterator中，这可以方便我们通过参数快速定义新的Iterator。\n",
    "\n",
    "\n",
    "- reinitializable iterator   \n",
    "能够接不同水池的水管，可重新初始化的 Iterator\n",
    "- feedable iterator  \n",
    "水管的转换器，可馈送的 Iterator  \n",
    "Tensorflow 最美妙的一个地方就是 feeding 机制，它决定了很多东西可以在程序运行时，动态填充，这其中也包括了 Iterator。  \n",
    "不同的 Dataset 用不同的 Iterator，然后利用 feeding 机制，动态决定，听起来就很棒，不是吗？  \n",
    "我们都知道，无论是在机器学习还是深度学习当中，训练集、验证集、测试集是大家绕不开的话题，但偏偏它们要分离开来，偏偏它们的数据类型又一致，所以，经常我们要写同样的重复的代码。\n",
    "复用，是软件开发中一个重要的思想。  \n",
    "可馈送的 Iterator 一定程度上可以解决重复的代码，同时又将训练集和验证集的操作清晰得分离开来。\n"
   ]
  },
  {
   "cell_type": "markdown",
   "metadata": {},
   "source": [
    "### initializable iterator\n",
    "跟单次 Iterator 的代码只有 2 处不同。\n",
    "\n",
    "1、创建的方式不同，iterator.make_initialnizer()。\n",
    "\n",
    "2、每次重新初始化的时候，都要调用sess.run(iterator.initializer)\n",
    "\n",
    "你可以这样理解，Dataset 这个水池连续装了 2 次水，每次水量不一样，但可初始化的 Iterator 很好地处理了这件事情，但需要注意的是，这个时候 Iterator 还是面对同一个 Dataset。\n"
   ]
  },
  {
   "cell_type": "code",
   "execution_count": 45,
   "metadata": {},
   "outputs": [
    {
     "name": "stdout",
     "output_type": "stream",
     "text": [
      "The 1st iterator:\n",
      "0\n",
      "1\n",
      "The 2nd iterator:\n",
      "0\n",
      "1\n",
      "2\n",
      "3\n",
      "4\n",
      "5\n"
     ]
    }
   ],
   "source": [
    "numbers = tf.placeholder(tf.int64,shape=[])\n",
    "dataset = tf.data.Dataset.range(numbers)\n",
    "# iterator = dataset.make_one_shot_iterator()\n",
    "iterator = dataset.make_initializable_iterator()\n",
    "\n",
    "with tf.Session() as sess:\n",
    "    sess.run(iterator.initializer,feed_dict={numbers:2})\n",
    "    print(\"The 1st iterator:\")\n",
    "    while True:\n",
    "        try:\n",
    "            print(sess.run(iterator.get_next()))\n",
    "        except tf.errors.OutOfRangeError:\n",
    "            break\n",
    "\n",
    "    sess.run(iterator.initializer,feed_dict={numbers:6})\n",
    "    print(\"The 2nd iterator:\")\n",
    "    while True:\n",
    "        try:\n",
    "            \n",
    "            print(sess.run(iterator.get_next()))\n",
    "        except tf.errors.OutOfRangeError:\n",
    "            break\n"
   ]
  },
  {
   "cell_type": "markdown",
   "metadata": {},
   "source": [
    "### reinitializable iterator\n",
    "Iterator 可以接多个水池里面的水，但是要求这水池里面的水是同样的品质。  \n",
    "也就是，多个 Dataset 中它们的元素数据类型和形状应该是一致的。  \n",
    "通过 from_structure() 统一规格，后面的 2 句代码可以看成是 2 个水龙头，它们决定了放哪个水池当中的水。"
   ]
  },
  {
   "cell_type": "code",
   "execution_count": 47,
   "metadata": {},
   "outputs": [
    {
     "name": "stdout",
     "output_type": "stream",
     "text": [
      "Epoch:0\n",
      "====Training=======\n",
      "0\n",
      "1\n",
      "2\n",
      "====Validation=======\n",
      "0\n",
      "1\n",
      "Epoch:1\n",
      "====Training=======\n",
      "0\n",
      "1\n",
      "2\n",
      "====Validation=======\n",
      "0\n",
      "1\n",
      "Epoch:2\n",
      "====Training=======\n",
      "0\n",
      "1\n",
      "2\n",
      "====Validation=======\n",
      "0\n",
      "1\n"
     ]
    }
   ],
   "source": [
    "training_data = tf.data.Dataset.range(10)\n",
    "validation_data = tf.data.Dataset.range(5)\n",
    "\n",
    "iterator = tf.data.Iterator.from_structure(training_data.output_types,\n",
    "                                           training_data.output_shapes)\n",
    "\n",
    "train_op = iterator.make_initializer(training_data)\n",
    "validation_op = iterator.make_initializer(validation_data)\n",
    "\n",
    "next_element = iterator.get_next()\n",
    "\n",
    "with tf.Session() as sess:\n",
    "    for i in range(3):\n",
    "        print(\"Epoch:%d\" % i)\n",
    "        print('====Training=======')\n",
    "        sess.run(train_op)\n",
    "        for _ in range(3):\n",
    "            print(sess.run(next_element))\n",
    "\n",
    "        print('====Validation=======')\n",
    "        sess.run(validation_op)\n",
    "        for _ in range(2):\n",
    "            print(sess.run(next_element))\n",
    "\n",
    "       \n"
   ]
  },
  {
   "cell_type": "markdown",
   "metadata": {},
   "source": [
    "###  feedable iterator  \n",
    "水管的转换器，可馈送的 Iterator \n",
    "如果用图表的形式加深理解的话，那就是可馈送 Iterator 的方式，可以自主决定用哪个 Iterator，就好比不同的水池有不同的水管，不需要用同一根水管接到不同的水池当中去了。\n",
    "\n",
    "可馈送的 Iterator 和可重新初始化的 Iterator 非常相似，但是，可馈送的 Iterator 在不同的 Iterator 切换的时候，可以做到不从头开始。\n"
   ]
  },
  {
   "cell_type": "code",
   "execution_count": null,
   "metadata": {},
   "outputs": [],
   "source": [
    "train_data = tf.data.Dataset.range(100)\n",
    "val_data = tf.data.Dataset.range(5)\n",
    "\n",
    "handle = tf.placeholder(tf.string,shape=[])\n",
    "\n",
    "iterator = tf.data.Iterator.from_string_handle( handle,train_data.output_types,train_data.output_shapes)\n",
    "\n",
    "next_element = iterator.get_next()\n",
    "\n",
    "train_op = train_data.make_one_shot_iterator()\n",
    "validation_op = val_data.make_initializable_iterator()\n",
    "\n",
    "with tf.Session() as sess:\n",
    "    train_iterator_handle = sess.run(train_op.string_handle())\n",
    "    val_iterator_handle = sess.run(validation_op.string_handle())\n",
    "\n",
    "    for _ in range(3):\n",
    "        \n",
    "        for _ in range(2):\n",
    "            print(sess.run(next_element,feed_dict={handle:train_iterator_handle}))\n",
    "\n",
    "        print('======')\n",
    "\n",
    "        sess.run(validation_op.initializer)\n",
    "\n",
    "        for _ in range(5):\n",
    "            print(sess.run(next_element,feed_dict={handle:val_iterator_handle}))\n",
    "        print('======')\n"
   ]
  },
  {
   "cell_type": "code",
   "execution_count": null,
   "metadata": {},
   "outputs": [],
   "source": []
  },
  {
   "cell_type": "markdown",
   "metadata": {},
   "source": [
    "# cifar10 data pipeline\n",
    "- Extract:\n",
    "- Transform:\n",
    "- Load:"
   ]
  },
  {
   "cell_type": "code",
   "execution_count": 50,
   "metadata": {},
   "outputs": [
    {
     "data": {
      "text/plain": [
       "['D:\\\\wangfeicheng\\\\Tensorflow\\\\cifar10-tensorflow\\\\cifar-10-binary\\\\cifar-10-batches-bin\\\\data_batch_1.bin',\n",
       " 'D:\\\\wangfeicheng\\\\Tensorflow\\\\cifar10-tensorflow\\\\cifar-10-binary\\\\cifar-10-batches-bin\\\\data_batch_2.bin',\n",
       " 'D:\\\\wangfeicheng\\\\Tensorflow\\\\cifar10-tensorflow\\\\cifar-10-binary\\\\cifar-10-batches-bin\\\\data_batch_3.bin',\n",
       " 'D:\\\\wangfeicheng\\\\Tensorflow\\\\cifar10-tensorflow\\\\cifar-10-binary\\\\cifar-10-batches-bin\\\\data_batch_4.bin',\n",
       " 'D:\\\\wangfeicheng\\\\Tensorflow\\\\cifar10-tensorflow\\\\cifar-10-binary\\\\cifar-10-batches-bin\\\\data_batch_5.bin']"
      ]
     },
     "execution_count": 50,
     "metadata": {},
     "output_type": "execute_result"
    }
   ],
   "source": [
    "data_dir = r'D:\\wangfeicheng\\Tensorflow\\cifar10-tensorflow\\cifar-10-binary\\cifar-10-batches-bin'\n",
    "def get_filenames(data_dir):\n",
    "    filenames = []\n",
    "    for i in range(1,6):\n",
    "        filename = os.path.join(data_dir,'data_batch_%i.bin' %i)\n",
    "        try:\n",
    "            os.path.exists(filename)\n",
    "            filenames.append(filename)\n",
    "        except Exception as e:\n",
    "            print(e)\n",
    "    return filenames\n",
    "\n",
    "get_filenames(data_dir)       "
   ]
  },
  {
   "cell_type": "code",
   "execution_count": 148,
   "metadata": {},
   "outputs": [],
   "source": [
    "image_height=32\n",
    "image_width = 32\n",
    "depth =3\n",
    "label_bytes = 1\n",
    "record_bytes = image_height*image_width*depth +label_bytes\n",
    "image_bytes = image_height*image_width*depth\n",
    "\n",
    "is_training =True\n",
    "mode ='train'\n",
    "batch_size=4\n",
    "epoch =1"
   ]
  },
  {
   "cell_type": "code",
   "execution_count": 79,
   "metadata": {},
   "outputs": [],
   "source": [
    "label_names = ['airplane', 'automobile', 'bird', 'cat', 'deer', 'dog', 'frog', 'horse', 'ship', 'truck']\n",
    "label_dict = {}\n",
    "for key, value in enumerate(label_names):\n",
    "    label_dict[key] = value"
   ]
  },
  {
   "cell_type": "code",
   "execution_count": 70,
   "metadata": {},
   "outputs": [],
   "source": [
    "def parser(line):\n",
    "    value = tf.decode_raw(line,tf.uint8)\n",
    "    record = tf.reshape(value, shape = [record_bytes])\n",
    "    label = tf.slice(record,begin = [0],size= [label_bytes])\n",
    "    image = tf.slice(record,begin = [label_bytes],size= [ image_bytes] )\n",
    "    image = tf.transpose(tf.reshape(image,shape = [depth,image_height,image_width]),[1,2,0])\n",
    "    return image,label"
   ]
  },
  {
   "cell_type": "code",
   "execution_count": 136,
   "metadata": {},
   "outputs": [],
   "source": [
    "def image_transform(image,label):  \n",
    "#     image_crop_paded = tf.image.resize_image_with_crop_or_pad(image,target_height=image_height+10,target_width=image_width+10)\n",
    "    image_brighted = tf.image.adjust_contrast(image, contrast_factor=2)\n",
    "    image_fliped = tf.image.random_flip_up_down(image_brighted,seed=111)\n",
    "    image_resized = tf.image.resize_images(image_fliped,size = [image_height,image_width],method = 1)\n",
    "#     \n",
    "    image_std = tf.image.per_image_standardization(tf.cast(image_resized,tf.float32))\n",
    "    return image_resized,label,image_std"
   ]
  },
  {
   "cell_type": "code",
   "execution_count": 169,
   "metadata": {},
   "outputs": [
    {
     "name": "stdout",
     "output_type": "stream",
     "text": [
      "<FixedLengthRecordDataset shapes: (), types: tf.string>\n",
      "<MapDataset shapes: ((32, 32, 3), (1,)), types: (tf.uint8, tf.uint8)>\n",
      "images shape:(4, 32, 32, 3)\n",
      "labels shape:(4, 1)\n",
      "images shape:(4, 32, 32, 3)\n",
      "labels shape:(4, 1)\n",
      "The duration:1.4797439575195312\n"
     ]
    },
    {
     "data": {
      "image/png": "[encoded data removed]",
      "text/plain": [
       "<Figure size 2160x2160 with 8 Axes>"
      ]
     },
     "metadata": {
      "needs_background": "light"
     },
     "output_type": "display_data"
    }
   ],
   "source": [
    "filenames  =get_filenames(data_dir)\n",
    "#Extract the data from the binary file:\n",
    "dataset = tf.data.FixedLengthRecordDataset(filenames = filenames,record_bytes=record_bytes)\n",
    "print(dataset)\n",
    "\n",
    "\n",
    "num_parallel_calls = None\n",
    "#Transform:\n",
    "dataset_parsed = dataset.map(parser)\n",
    "print(dataset_parsed)\n",
    "\n",
    "if  mode == 'train':\n",
    "    '''\n",
    "    Preprocessin for training data\n",
    "    '''\n",
    "    dataset_transformed = dataset_parsed.map(lambda image,label:image_transform(image,label),num_parallel_calls = num_parallel_calls)\n",
    "    pass\n",
    "elif mode == 'eval':\n",
    "    '''\n",
    "    Preprocessing for validation data\n",
    "    '''\n",
    "    pass\n",
    "elif mode == 'prediction':\n",
    "    pass\n",
    "\n",
    "\n",
    "dataset_batched = dataset_transformed.batch(batch_size = batch_size)\n",
    "\n",
    "dataset_shuffled = dataset_batched.shuffle(buffer_size = 5)\n",
    "\n",
    "dataset_repeated = dataset_shuffled.repeat(count = epoch)\n",
    "\n",
    "dataset_prefetched = dataset_repeated.prefetch(buffer_size = batch_size)\n",
    "\n",
    "iterator = dataset_prefetched.make_one_shot_iterator()\n",
    "\n",
    "images,labels,images_std = iterator.get_next()\n",
    "\n",
    "# label_oh = tf.one_hot(label)\n",
    "\n",
    "\n",
    "start_time =time.time()\n",
    "step = 1000\n",
    "\n",
    "plt.figure(figsize=(30,30))\n",
    "with tf.Session() as sess:\n",
    "    for i in range(step):\n",
    "        if i>1:\n",
    "            images_value,labels_value,images_std_value = sess.run([images,labels,images_std])\n",
    "            pass\n",
    "        else:\n",
    "            images_value,labels_value,images_std_value = sess.run([images,labels,images_std])\n",
    "            print('images shape:{0}\\nlabels shape:{1}'.format(images_value.shape,labels_value.shape))\n",
    "            for j in range(batch_size):\n",
    "                plt.subplot(4,4,i*4+j+1)\n",
    "                plt.imshow(images_value[j])\n",
    "                mean = np.mean(images_std_value[j])\n",
    "                std  = np.std(images_std_value[j])\n",
    "                lable_name = label_dict[labels_value[j][0]]\n",
    "                plt.title(lable_name+'\\nmean:{0} \\nstd:{1}'.format(mean,std))\n",
    "end_time = time.time()\n",
    "duration = end_time-start_time\n",
    "print('The duration:{}'.format(duration))"
   ]
  }
 ],
 "metadata": {
  "kernelspec": {
   "display_name": "Python 3",
   "language": "python",
   "name": "python3"
  },
  "language_info": {
   "codemirror_mode": {
    "name": "ipython",
    "version": 3
   },
   "file_extension": ".py",
   "mimetype": "text/x-python",
   "name": "python",
   "nbconvert_exporter": "python",
   "pygments_lexer": "ipython3",
   "version": "3.6.8"
  }
 },
 "nbformat": 4,
 "nbformat_minor": 2
}
